{
 "cells": [
  {
   "cell_type": "markdown",
   "id": "stunning-arkansas",
   "metadata": {},
   "source": [
    "### Real Time plotting"
   ]
  },
  {
   "cell_type": "code",
   "execution_count": 1,
   "id": "superior-plasma",
   "metadata": {},
   "outputs": [],
   "source": [
    "import random\n",
    "from itertools import count\n",
    "import pandas as pd\n",
    "import matplotlib.pyplot as plt\n",
    "from matplotlib.animation import FuncAnimation"
   ]
  },
  {
   "cell_type": "code",
   "execution_count": 2,
   "id": "colored-telling",
   "metadata": {},
   "outputs": [
    {
     "data": {
      "text/plain": [
       "<function matplotlib.pyplot.show(close=None, block=None)>"
      ]
     },
     "execution_count": 2,
     "metadata": {},
     "output_type": "execute_result"
    },
    {
     "data": {
      "image/png": "[encoded data removed]",
      "text/plain": [
       "<Figure size 720x576 with 1 Axes>"
      ]
     },
     "metadata": {},
     "output_type": "display_data"
    }
   ],
   "source": [
    "\n",
    "plt.style.use('fivethirtyeight')\n",
    "plt.figure(figsize=(10,8))\n",
    "\n",
    "# data = pd.read_csv('data.csv')\n",
    "# x = data['x_value']\n",
    "# y1 = data['total_1']\n",
    "# y2 = data['total_2']\n",
    "\n",
    "\n",
    "x_vals = [0,1,2,3,4,5]\n",
    "y_vals = [0,1,3,2,3,5]\n",
    "\n",
    "plt.plot(x_vals, y_vals)\n",
    "\n",
    "# def animate(i):\n",
    "#     x_vals.append(next(index))\n",
    "#     y_vals.append(random.randint(0,5))\n",
    "\n",
    "\n",
    "plt.tight_layout()\n",
    "\n",
    "plt.savefig('plot_09a.png') # save plot to file.png\n",
    "\n",
    "plt.show"
   ]
  },
  {
   "cell_type": "markdown",
   "id": "lyric-surgery",
   "metadata": {},
   "source": [
    "### For the code below to work you have to run Live_data_generator.py in the command line first so that is will\n",
    "### start generating data and saving it to data9.txt"
   ]
  },
  {
   "cell_type": "code",
   "execution_count": 17,
   "id": "signed-arthritis",
   "metadata": {},
   "outputs": [
    {
     "data": {
      "text/plain": [
       "<function matplotlib.pyplot.show(*, block=None)>"
      ]
     },
     "execution_count": 17,
     "metadata": {},
     "output_type": "execute_result"
    }
   ],
   "source": [
    "from matplotlib.animation import FuncAnimation\n",
    "# use code below to have animated plot open in new window\n",
    "%matplotlib qt \n",
    "\n",
    "plt.style.use('fivethirtyeight')\n",
    "plt.figure(figsize=(10,8))\n",
    "\n",
    "# use count function from itertools library to count up one number at a time\n",
    "index = count()\n",
    "\n",
    "# # function below is for testing prior to using live data\n",
    "# def animate(i):\n",
    "#     x_vals.append(next(index)) # count up by 1 (sequentially)\n",
    "#     y_vals.append(random.randint(0,5)) # append a random number between 1 and 5\n",
    "#     plt.cla() # clear axis\n",
    "#     plt.plot(x_vals, y_vals)\n",
    "\n",
    "# function below for reading real time data from CSV file\n",
    "def animate(i):\n",
    "    data = pd.read_csv('data9.txt')\n",
    "    x = data['x_value']\n",
    "    y1 = data['total_1']\n",
    "    y2 = data['total_2']\n",
    "    plt.cla() # clear axis\n",
    "    plt.plot(x, y1, label='Channel 1')\n",
    "    plt.plot(x, y2, label='Channel 2')\n",
    "    \n",
    "    plt.legend(loc = 'upper left')\n",
    "    plt.tight_layout()\n",
    "    \n",
    "\n",
    "# run animate function for a specific interval and plot new data from csv file\n",
    "# need to pass in figure to the function\n",
    "ani = FuncAnimation(plt.gcf(), animate, interval=1000) # intervals are in milliseconds, so 1000 = 1 second\n",
    "\n",
    "plt.show"
   ]
  },
  {
   "cell_type": "markdown",
   "id": "separate-blogger",
   "metadata": {},
   "source": [
    "### Another way to do it without clearing the Axis"
   ]
  },
  {
   "cell_type": "code",
   "execution_count": 22,
   "id": "following-welding",
   "metadata": {},
   "outputs": [],
   "source": [
    "\n",
    "from itertools import count\n",
    "import pandas as pd\n",
    "import matplotlib.pyplot as plt\n",
    "from matplotlib.animation import FuncAnimation\n",
    "\n",
    "plt.style.use('fivethirtyeight')\n",
    "\n",
    "x_vals = []\n",
    "y_vals = []\n",
    "\n",
    "plt.plot([], [], label='Channel 1')\n",
    "plt.plot([], [], label='Channel 2')\n",
    "\n",
    "\n",
    "def animate(i):\n",
    "    data = pd.read_csv('data9.txt')\n",
    "    x = data['x_value']\n",
    "    y1 = data['total_1']\n",
    "    y2 = data['total_2']\n",
    "\n",
    "    ax = plt.gca()\n",
    "    line1, line2 = ax.lines\n",
    "\n",
    "    line1.set_data(x, y1)\n",
    "    line2.set_data(x, y2)\n",
    "\n",
    "    xlim_low, xlim_high = ax.get_xlim()\n",
    "    ylim_low, ylim_high = ax.get_ylim()\n",
    "\n",
    "    ax.set_xlim(xlim_low, (x.max() + 5))\n",
    "\n",
    "    y1max = y1.max()\n",
    "    y2max = y2.max()\n",
    "    current_ymax = y1max if (y1max > y2max) else y2max\n",
    "\n",
    "    y1min = y1.min()\n",
    "    y2min = y2.min()\n",
    "    current_ymin = y1min if (y1min < y2min) else y2min\n",
    "\n",
    "    ax.set_ylim((current_ymin - 5), (current_ymax + 5))\n",
    "\n",
    "\n",
    "ani = FuncAnimation(plt.gcf(), animate, interval=1000)\n",
    "\n",
    "plt.legend()\n",
    "plt.tight_layout()\n",
    "plt.show()"
   ]
  },
  {
   "cell_type": "code",
   "execution_count": null,
   "id": "worldwide-yugoslavia",
   "metadata": {},
   "outputs": [],
   "source": []
  }
 ],
 "metadata": {
  "kernelspec": {
   "display_name": "Pydata",
   "language": "python",
   "name": "pydata"
  },
  "language_info": {
   "codemirror_mode": {
    "name": "ipython",
    "version": 3
   },
   "file_extension": ".py",
   "mimetype": "text/x-python",
   "name": "python",
   "nbconvert_exporter": "python",
   "pygments_lexer": "ipython3",
   "version": "3.8.5"
  }
 },
 "nbformat": 4,
 "nbformat_minor": 5
}
